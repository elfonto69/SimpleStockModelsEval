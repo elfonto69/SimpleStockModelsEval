{
  "nbformat": 4,
  "nbformat_minor": 0,
  "metadata": {
    "colab": {
      "name": "Stock Prediction Models Evaluation.ipynb",
      "version": "0.3.2",
      "provenance": [],
      "collapsed_sections": []
    },
    "kernelspec": {
      "name": "python3",
      "display_name": "Python 3"
    },
    "accelerator": "GPU"
  },
  "cells": [
    {
      "cell_type": "markdown",
      "metadata": {
        "id": "lh4ucnuYfBun",
        "colab_type": "text"
      },
      "source": [
        "#Setup & Dependencies"
      ]
    },
    {
      "cell_type": "code",
      "metadata": {
        "id": "qBjfw_Uk1Xu-",
        "colab_type": "code",
        "outputId": "fc69fe6d-39ee-4b63-d1ad-947a4f2c7862",
        "colab": {
          "base_uri": "https://localhost:8080/",
          "height": 310
        }
      },
      "source": [
        "import numpy as np\n",
        "import pandas as pd\n",
        "import matplotlib.pyplot as plt\n",
        "\n",
        "\n",
        "#Data import\n",
        "from pandas_datareader import data as pdr\n",
        "import fix_yahoo_finance as yf\n",
        "\n",
        "!pip install yfinance --upgrade --no-cache-dir\n",
        "yf.pdr_override()\n",
        "\n",
        "#For mounting to drive\n",
        "from google.colab import drive\n",
        "\n",
        "\n",
        "#Modeling\n",
        "from sklearn.linear_model import LinearRegression, Ridge, Lasso\n",
        "from sklearn import preprocessing\n",
        "from sklearn.model_selection import train_test_split\n",
        "from sklearn.ensemble import GradientBoostingRegressor\n",
        "\n",
        "#Modeling Metrics\n",
        "from sklearn import metrics\n"
      ],
      "execution_count": 1,
      "outputs": [
        {
          "output_type": "stream",
          "text": [
            "Requirement already up-to-date: yfinance in /usr/local/lib/python3.6/dist-packages (0.1.45)\n",
            "Requirement already satisfied, skipping upgrade: pandas>=0.24 in /usr/local/lib/python3.6/dist-packages (from yfinance) (0.24.2)\n",
            "Requirement already satisfied, skipping upgrade: multitasking>=0.0.7 in /usr/local/lib/python3.6/dist-packages (from yfinance) (0.0.9)\n",
            "Requirement already satisfied, skipping upgrade: numpy>=1.15 in /usr/local/lib/python3.6/dist-packages (from yfinance) (1.16.5)\n",
            "Requirement already satisfied, skipping upgrade: requests>=2.20 in /usr/local/lib/python3.6/dist-packages (from yfinance) (2.21.0)\n",
            "Requirement already satisfied, skipping upgrade: pytz>=2011k in /usr/local/lib/python3.6/dist-packages (from pandas>=0.24->yfinance) (2018.9)\n",
            "Requirement already satisfied, skipping upgrade: python-dateutil>=2.5.0 in /usr/local/lib/python3.6/dist-packages (from pandas>=0.24->yfinance) (2.5.3)\n",
            "Requirement already satisfied, skipping upgrade: chardet<3.1.0,>=3.0.2 in /usr/local/lib/python3.6/dist-packages (from requests>=2.20->yfinance) (3.0.4)\n",
            "Requirement already satisfied, skipping upgrade: urllib3<1.25,>=1.21.1 in /usr/local/lib/python3.6/dist-packages (from requests>=2.20->yfinance) (1.24.3)\n",
            "Requirement already satisfied, skipping upgrade: idna<2.9,>=2.5 in /usr/local/lib/python3.6/dist-packages (from requests>=2.20->yfinance) (2.8)\n",
            "Requirement already satisfied, skipping upgrade: certifi>=2017.4.17 in /usr/local/lib/python3.6/dist-packages (from requests>=2.20->yfinance) (2019.6.16)\n",
            "Requirement already satisfied, skipping upgrade: six>=1.5 in /usr/local/lib/python3.6/dist-packages (from python-dateutil>=2.5.0->pandas>=0.24->yfinance) (1.12.0)\n"
          ],
          "name": "stdout"
        }
      ]
    },
    {
      "cell_type": "code",
      "metadata": {
        "id": "wJJTxUqs1ljn",
        "colab_type": "code",
        "outputId": "0dc8ef8f-418f-49a4-e928-7a1093ec8700",
        "colab": {
          "base_uri": "https://localhost:8080/",
          "height": 51
        }
      },
      "source": [
        "\n",
        "#Mount folder to save and retrieve outputs\n",
        "drive.mount('/content/Drive3',force_remount=True)\n",
        "%cd \"/content/Drive3/My Drive/ML/StockModels/\""
      ],
      "execution_count": 2,
      "outputs": [
        {
          "output_type": "stream",
          "text": [
            "Mounted at /content/Drive3\n",
            "/content/Drive3/My Drive/ML/StockModels\n"
          ],
          "name": "stdout"
        }
      ]
    },
    {
      "cell_type": "markdown",
      "metadata": {
        "id": "r4NMWaQJf5vi",
        "colab_type": "text"
      },
      "source": [
        "#Import Data and Discovery"
      ]
    },
    {
      "cell_type": "code",
      "metadata": {
        "id": "XUaMSqfh18g_",
        "colab_type": "code",
        "colab": {
          "base_uri": "https://localhost:8080/",
          "height": 34
        },
        "outputId": "9e010b13-5d7f-4205-fdad-4d03b45dbc4d"
      },
      "source": [
        "\n",
        "df_full = pdr.get_data_yahoo(\"AAPL\", start=\"2018-01-01\").reset_index()\n",
        "\n",
        "df_full.to_csv('output/AAPL.csv',index=False)\n"
      ],
      "execution_count": 3,
      "outputs": [
        {
          "output_type": "stream",
          "text": [
            "[*********************100%***********************]  1 of 1 downloaded\n"
          ],
          "name": "stdout"
        }
      ]
    },
    {
      "cell_type": "code",
      "metadata": {
        "id": "VLmB5US53a7s",
        "colab_type": "code",
        "colab": {
          "base_uri": "https://localhost:8080/",
          "height": 34
        },
        "outputId": "277748a8-b397-4fb0-f1bf-8abe490fddc6"
      },
      "source": [
        "df_full.shape"
      ],
      "execution_count": 4,
      "outputs": [
        {
          "output_type": "execute_result",
          "data": {
            "text/plain": [
              "(428, 7)"
            ]
          },
          "metadata": {
            "tags": []
          },
          "execution_count": 4
        }
      ]
    },
    {
      "cell_type": "code",
      "metadata": {
        "id": "-9UIsVvr1-6b",
        "colab_type": "code",
        "colab": {
          "base_uri": "https://localhost:8080/",
          "height": 204
        },
        "outputId": "0afb36f7-ab55-4954-9d92-c8ea8b52df31"
      },
      "source": [
        "df_full.head()"
      ],
      "execution_count": 5,
      "outputs": [
        {
          "output_type": "execute_result",
          "data": {
            "text/html": [
              "<div>\n",
              "<style scoped>\n",
              "    .dataframe tbody tr th:only-of-type {\n",
              "        vertical-align: middle;\n",
              "    }\n",
              "\n",
              "    .dataframe tbody tr th {\n",
              "        vertical-align: top;\n",
              "    }\n",
              "\n",
              "    .dataframe thead th {\n",
              "        text-align: right;\n",
              "    }\n",
              "</style>\n",
              "<table border=\"1\" class=\"dataframe\">\n",
              "  <thead>\n",
              "    <tr style=\"text-align: right;\">\n",
              "      <th></th>\n",
              "      <th>Date</th>\n",
              "      <th>Open</th>\n",
              "      <th>High</th>\n",
              "      <th>Low</th>\n",
              "      <th>Close</th>\n",
              "      <th>Adj Close</th>\n",
              "      <th>Volume</th>\n",
              "    </tr>\n",
              "  </thead>\n",
              "  <tbody>\n",
              "    <tr>\n",
              "      <th>0</th>\n",
              "      <td>2018-01-02</td>\n",
              "      <td>170.160004</td>\n",
              "      <td>172.300003</td>\n",
              "      <td>169.259995</td>\n",
              "      <td>172.259995</td>\n",
              "      <td>167.701889</td>\n",
              "      <td>25555900</td>\n",
              "    </tr>\n",
              "    <tr>\n",
              "      <th>1</th>\n",
              "      <td>2018-01-03</td>\n",
              "      <td>172.529999</td>\n",
              "      <td>174.550003</td>\n",
              "      <td>171.960007</td>\n",
              "      <td>172.229996</td>\n",
              "      <td>167.672668</td>\n",
              "      <td>29517900</td>\n",
              "    </tr>\n",
              "    <tr>\n",
              "      <th>2</th>\n",
              "      <td>2018-01-04</td>\n",
              "      <td>172.539993</td>\n",
              "      <td>173.470001</td>\n",
              "      <td>172.080002</td>\n",
              "      <td>173.029999</td>\n",
              "      <td>168.451508</td>\n",
              "      <td>22434600</td>\n",
              "    </tr>\n",
              "    <tr>\n",
              "      <th>3</th>\n",
              "      <td>2018-01-05</td>\n",
              "      <td>173.440002</td>\n",
              "      <td>175.369995</td>\n",
              "      <td>173.050003</td>\n",
              "      <td>175.000000</td>\n",
              "      <td>170.369385</td>\n",
              "      <td>23660000</td>\n",
              "    </tr>\n",
              "    <tr>\n",
              "      <th>4</th>\n",
              "      <td>2018-01-08</td>\n",
              "      <td>174.350006</td>\n",
              "      <td>175.610001</td>\n",
              "      <td>173.929993</td>\n",
              "      <td>174.350006</td>\n",
              "      <td>169.736588</td>\n",
              "      <td>20567800</td>\n",
              "    </tr>\n",
              "  </tbody>\n",
              "</table>\n",
              "</div>"
            ],
            "text/plain": [
              "        Date        Open        High  ...       Close   Adj Close    Volume\n",
              "0 2018-01-02  170.160004  172.300003  ...  172.259995  167.701889  25555900\n",
              "1 2018-01-03  172.529999  174.550003  ...  172.229996  167.672668  29517900\n",
              "2 2018-01-04  172.539993  173.470001  ...  173.029999  168.451508  22434600\n",
              "3 2018-01-05  173.440002  175.369995  ...  175.000000  170.369385  23660000\n",
              "4 2018-01-08  174.350006  175.610001  ...  174.350006  169.736588  20567800\n",
              "\n",
              "[5 rows x 7 columns]"
            ]
          },
          "metadata": {
            "tags": []
          },
          "execution_count": 5
        }
      ]
    },
    {
      "cell_type": "code",
      "metadata": {
        "id": "D6tmGBaY3G1h",
        "colab_type": "code",
        "colab": {
          "base_uri": "https://localhost:8080/",
          "height": 297
        },
        "outputId": "90b90b8f-5670-4de8-f128-94ab63292b4a"
      },
      "source": [
        "df_full.describe()"
      ],
      "execution_count": 6,
      "outputs": [
        {
          "output_type": "execute_result",
          "data": {
            "text/html": [
              "<div>\n",
              "<style scoped>\n",
              "    .dataframe tbody tr th:only-of-type {\n",
              "        vertical-align: middle;\n",
              "    }\n",
              "\n",
              "    .dataframe tbody tr th {\n",
              "        vertical-align: top;\n",
              "    }\n",
              "\n",
              "    .dataframe thead th {\n",
              "        text-align: right;\n",
              "    }\n",
              "</style>\n",
              "<table border=\"1\" class=\"dataframe\">\n",
              "  <thead>\n",
              "    <tr style=\"text-align: right;\">\n",
              "      <th></th>\n",
              "      <th>Open</th>\n",
              "      <th>High</th>\n",
              "      <th>Low</th>\n",
              "      <th>Close</th>\n",
              "      <th>Adj Close</th>\n",
              "      <th>Volume</th>\n",
              "    </tr>\n",
              "  </thead>\n",
              "  <tbody>\n",
              "    <tr>\n",
              "      <th>count</th>\n",
              "      <td>428.000000</td>\n",
              "      <td>428.000000</td>\n",
              "      <td>428.000000</td>\n",
              "      <td>428.000000</td>\n",
              "      <td>428.000000</td>\n",
              "      <td>4.280000e+02</td>\n",
              "    </tr>\n",
              "    <tr>\n",
              "      <th>mean</th>\n",
              "      <td>189.269603</td>\n",
              "      <td>191.171963</td>\n",
              "      <td>187.492664</td>\n",
              "      <td>189.349767</td>\n",
              "      <td>186.869200</td>\n",
              "      <td>3.192506e+07</td>\n",
              "    </tr>\n",
              "    <tr>\n",
              "      <th>std</th>\n",
              "      <td>19.699378</td>\n",
              "      <td>19.786240</td>\n",
              "      <td>19.615980</td>\n",
              "      <td>19.701987</td>\n",
              "      <td>19.931548</td>\n",
              "      <td>1.362092e+07</td>\n",
              "    </tr>\n",
              "    <tr>\n",
              "      <th>min</th>\n",
              "      <td>143.979996</td>\n",
              "      <td>145.720001</td>\n",
              "      <td>142.000000</td>\n",
              "      <td>142.190002</td>\n",
              "      <td>140.505798</td>\n",
              "      <td>1.136200e+07</td>\n",
              "    </tr>\n",
              "    <tr>\n",
              "      <th>25%</th>\n",
              "      <td>174.087502</td>\n",
              "      <td>175.149994</td>\n",
              "      <td>172.712498</td>\n",
              "      <td>174.240005</td>\n",
              "      <td>171.164211</td>\n",
              "      <td>2.239458e+07</td>\n",
              "    </tr>\n",
              "    <tr>\n",
              "      <th>50%</th>\n",
              "      <td>188.365005</td>\n",
              "      <td>189.769997</td>\n",
              "      <td>186.779999</td>\n",
              "      <td>188.525002</td>\n",
              "      <td>185.567421</td>\n",
              "      <td>2.844490e+07</td>\n",
              "    </tr>\n",
              "    <tr>\n",
              "      <th>75%</th>\n",
              "      <td>204.292495</td>\n",
              "      <td>206.432495</td>\n",
              "      <td>202.992496</td>\n",
              "      <td>204.507500</td>\n",
              "      <td>203.391636</td>\n",
              "      <td>3.787712e+07</td>\n",
              "    </tr>\n",
              "    <tr>\n",
              "      <th>max</th>\n",
              "      <td>230.779999</td>\n",
              "      <td>233.470001</td>\n",
              "      <td>229.779999</td>\n",
              "      <td>232.070007</td>\n",
              "      <td>228.523819</td>\n",
              "      <td>9.624670e+07</td>\n",
              "    </tr>\n",
              "  </tbody>\n",
              "</table>\n",
              "</div>"
            ],
            "text/plain": [
              "             Open        High         Low       Close   Adj Close        Volume\n",
              "count  428.000000  428.000000  428.000000  428.000000  428.000000  4.280000e+02\n",
              "mean   189.269603  191.171963  187.492664  189.349767  186.869200  3.192506e+07\n",
              "std     19.699378   19.786240   19.615980   19.701987   19.931548  1.362092e+07\n",
              "min    143.979996  145.720001  142.000000  142.190002  140.505798  1.136200e+07\n",
              "25%    174.087502  175.149994  172.712498  174.240005  171.164211  2.239458e+07\n",
              "50%    188.365005  189.769997  186.779999  188.525002  185.567421  2.844490e+07\n",
              "75%    204.292495  206.432495  202.992496  204.507500  203.391636  3.787712e+07\n",
              "max    230.779999  233.470001  229.779999  232.070007  228.523819  9.624670e+07"
            ]
          },
          "metadata": {
            "tags": []
          },
          "execution_count": 6
        }
      ]
    },
    {
      "cell_type": "code",
      "metadata": {
        "id": "g5BfNAJh3FT7",
        "colab_type": "code",
        "colab": {
          "base_uri": "https://localhost:8080/",
          "height": 286
        },
        "outputId": "f00d853c-36f4-4873-f039-d39bd8395b01"
      },
      "source": [
        "\n",
        "df_full[\"Adj Close\"].plot()"
      ],
      "execution_count": 7,
      "outputs": [
        {
          "output_type": "execute_result",
          "data": {
            "text/plain": [
              "<matplotlib.axes._subplots.AxesSubplot at 0x7f4c55131f28>"
            ]
          },
          "metadata": {
            "tags": []
          },
          "execution_count": 7
        },
        {
          "output_type": "display_data",
          "data": {
            "image/png": "[encoded data removed]",
            "text/plain": [
              "<Figure size 432x288 with 1 Axes>"
            ]
          },
          "metadata": {
            "tags": []
          }
        }
      ]
    },
    {
      "cell_type": "markdown",
      "metadata": {
        "id": "01FahZkDlhTY",
        "colab_type": "text"
      },
      "source": [
        "# Data Preproccessing\n"
      ]
    },
    {
      "cell_type": "code",
      "metadata": {
        "id": "kiV0hfjU21p8",
        "colab_type": "code",
        "colab": {}
      },
      "source": [
        "df_full.set_index(\"Date\", inplace=True)"
      ],
      "execution_count": 0,
      "outputs": []
    },
    {
      "cell_type": "code",
      "metadata": {
        "id": "m9UiR3bBPUeK",
        "colab_type": "code",
        "colab": {}
      },
      "source": [
        "window_size=32\n",
        "num_samples=len(df_full)-window_size\n",
        "\n",
        "# Get indices of access for the data\n",
        "indices=np.arange(num_samples).astype(np.int)[:,None]+np.arange(window_size+1).astype(np.int)\n",
        "\n",
        "\n",
        "data = df_full['Adj Close'].values[indices] # Create the 2D matrix of training samples\n",
        "x = data[:,:-1] # Each row represents 32 days in the past\n",
        "y = data[:,-1] # Each output value represents the 33rd day\n"
      ],
      "execution_count": 0,
      "outputs": []
    },
    {
      "cell_type": "code",
      "metadata": {
        "id": "9SRjkIH9Vwbc",
        "colab_type": "code",
        "colab": {}
      },
      "source": [
        "split_fraction=0.8\n",
        "ind_split=int(split_fraction*num_samples)"
      ],
      "execution_count": 0,
      "outputs": []
    },
    {
      "cell_type": "code",
      "metadata": {
        "id": "ojfgnGEIV6zl",
        "colab_type": "code",
        "colab": {}
      },
      "source": [
        "x_train = x[:ind_split]\n",
        "y_train = y[:ind_split]\n",
        "x_test = x[ind_split:]\n",
        "y_test = y[ind_split:]"
      ],
      "execution_count": 0,
      "outputs": []
    },
    {
      "cell_type": "code",
      "metadata": {
        "id": "AJvOM9RNWMyc",
        "colab_type": "code",
        "colab": {
          "base_uri": "https://localhost:8080/",
          "height": 34
        },
        "outputId": "5e3f0f72-3ecb-44a0-c2a6-017674e04cc4"
      },
      "source": [
        "y_test.shape"
      ],
      "execution_count": 12,
      "outputs": [
        {
          "output_type": "execute_result",
          "data": {
            "text/plain": [
              "(80,)"
            ]
          },
          "metadata": {
            "tags": []
          },
          "execution_count": 12
        }
      ]
    },
    {
      "cell_type": "markdown",
      "metadata": {
        "id": "1ObTOxtxqevc",
        "colab_type": "text"
      },
      "source": [
        "#Modeling and Adding perfomance check for all Models"
      ]
    },
    {
      "cell_type": "code",
      "metadata": {
        "id": "DhLMy_tp0Wzl",
        "colab_type": "code",
        "colab": {}
      },
      "source": [
        "#Help Functions\n",
        "def get_performance (model_pred):\n",
        "  #Function returns standard performance metrics\n",
        "  print('Mean Absolute Error:', metrics.mean_absolute_error(y_test, model_pred).round(4))  \n",
        "  print('Mean Squared Error:', metrics.mean_squared_error(y_test, model_pred).round(4))  \n",
        "  print('Root Mean Squared Error:', np.sqrt(metrics.mean_squared_error(y_test, model_pred)).round(4))\n",
        "  \n",
        "  \n",
        "  \n",
        "def get_plot (model_pred):\n",
        "  plt.scatter(model_pred, y_test, color=\"gray\")\n",
        "  plt.plot(y_test, y_test, color='red', linewidth=2)"
      ],
      "execution_count": 0,
      "outputs": []
    },
    {
      "cell_type": "code",
      "metadata": {
        "id": "FfsVDK7v0cVN",
        "colab_type": "code",
        "colab": {}
      },
      "source": [
        ""
      ],
      "execution_count": 0,
      "outputs": []
    },
    {
      "cell_type": "markdown",
      "metadata": {
        "id": "i_7NV8mS0exY",
        "colab_type": "text"
      },
      "source": [
        "## Baseline"
      ]
    },
    {
      "cell_type": "code",
      "metadata": {
        "id": "Db9--ffMx2Q6",
        "colab_type": "code",
        "colab": {}
      },
      "source": [
        "y_pred_lag=np.roll(y_test,1)"
      ],
      "execution_count": 0,
      "outputs": []
    },
    {
      "cell_type": "code",
      "metadata": {
        "id": "0ml3n0nVx2TW",
        "colab_type": "code",
        "colab": {
          "base_uri": "https://localhost:8080/",
          "height": 68
        },
        "outputId": "737023d5-231a-488b-f2bd-0fc8eb88f6d3"
      },
      "source": [
        "get_performance(y_pred_lag)"
      ],
      "execution_count": 19,
      "outputs": [
        {
          "output_type": "stream",
          "text": [
            "Mean Absolute Error: 2.9604\n",
            "Mean Squared Error: 27.7842\n",
            "Root Mean Squared Error: 5.2711\n"
          ],
          "name": "stdout"
        }
      ]
    },
    {
      "cell_type": "code",
      "metadata": {
        "id": "dn2YXwLm1Fvt",
        "colab_type": "code",
        "colab": {
          "base_uri": "https://localhost:8080/",
          "height": 269
        },
        "outputId": "bfd656a3-72a2-41a5-d848-8ebb76213fc3"
      },
      "source": [
        "get_plot(y_pred_lag)"
      ],
      "execution_count": 17,
      "outputs": [
        {
          "output_type": "display_data",
          "data": {
            "image/png": "[encoded data removed]",
            "text/plain": [
              "<Figure size 432x288 with 1 Axes>"
            ]
          },
          "metadata": {
            "tags": []
          }
        }
      ]
    },
    {
      "cell_type": "markdown",
      "metadata": {
        "id": "M6emFoD61Qoa",
        "colab_type": "text"
      },
      "source": [
        "## Linear Regression"
      ]
    },
    {
      "cell_type": "code",
      "metadata": {
        "id": "ZvhqwWmqshdp",
        "colab_type": "code",
        "colab": {
          "base_uri": "https://localhost:8080/",
          "height": 34
        },
        "outputId": "c3ec0159-cc4e-40b9-9502-1197c4a2e365"
      },
      "source": [
        "model_lr=LinearRegression()\n",
        "model_lr.fit(x_train, y_train)"
      ],
      "execution_count": 20,
      "outputs": [
        {
          "output_type": "execute_result",
          "data": {
            "text/plain": [
              "LinearRegression(copy_X=True, fit_intercept=True, n_jobs=None, normalize=False)"
            ]
          },
          "metadata": {
            "tags": []
          },
          "execution_count": 20
        }
      ]
    },
    {
      "cell_type": "code",
      "metadata": {
        "id": "IJ_9vIwRtar4",
        "colab_type": "code",
        "colab": {}
      },
      "source": [
        "y_pred_lr=model_lr.predict(x_test)"
      ],
      "execution_count": 0,
      "outputs": []
    },
    {
      "cell_type": "code",
      "metadata": {
        "id": "LQyU1G0at3e3",
        "colab_type": "code",
        "colab": {
          "base_uri": "https://localhost:8080/",
          "height": 68
        },
        "outputId": "327c3065-9695-4848-de25-40c672e84c8f"
      },
      "source": [
        "get_performance(y_pred_lr)"
      ],
      "execution_count": 22,
      "outputs": [
        {
          "output_type": "stream",
          "text": [
            "Mean Absolute Error: 2.9299\n",
            "Mean Squared Error: 13.7611\n",
            "Root Mean Squared Error: 3.7096\n"
          ],
          "name": "stdout"
        }
      ]
    },
    {
      "cell_type": "code",
      "metadata": {
        "id": "fqSKxWI31bt-",
        "colab_type": "code",
        "colab": {
          "base_uri": "https://localhost:8080/",
          "height": 269
        },
        "outputId": "744c3545-58b9-4548-ef55-d496aec5f7fa"
      },
      "source": [
        "get_plot(y_pred_lr)"
      ],
      "execution_count": 23,
      "outputs": [
        {
          "output_type": "display_data",
          "data": {
            "image/png": "[encoded data removed]",
            "text/plain": [
              "<Figure size 432x288 with 1 Axes>"
            ]
          },
          "metadata": {
            "tags": []
          }
        }
      ]
    },
    {
      "cell_type": "code",
      "metadata": {
        "id": "pPTHK6nJuXMT",
        "colab_type": "code",
        "colab": {}
      },
      "source": [
        ""
      ],
      "execution_count": 0,
      "outputs": []
    },
    {
      "cell_type": "code",
      "metadata": {
        "id": "sLmSkYD7vTBc",
        "colab_type": "code",
        "outputId": "c65ecd5b-2fe1-4eab-cfbd-10455c9718e1",
        "colab": {
          "base_uri": "https://localhost:8080/",
          "height": 68
        }
      },
      "source": [
        "get_performance(y_pred_lr)"
      ],
      "execution_count": 24,
      "outputs": [
        {
          "output_type": "stream",
          "text": [
            "Mean Absolute Error: 2.9299\n",
            "Mean Squared Error: 13.7611\n",
            "Root Mean Squared Error: 3.7096\n"
          ],
          "name": "stdout"
        }
      ]
    },
    {
      "cell_type": "markdown",
      "metadata": {
        "id": "2uOd85gIX9SV",
        "colab_type": "text"
      },
      "source": [
        "## Method #1- Ridge Regression"
      ]
    },
    {
      "cell_type": "code",
      "metadata": {
        "id": "tIZ3_ZtwYBm0",
        "colab_type": "code",
        "colab": {}
      },
      "source": [
        "model_ridge = Ridge()\n",
        "model_ridge.fit(x_train, y_train)\n",
        "\n",
        "#generate predictions\n",
        "y_pred_ridge=model_ridge.predict(x_test)"
      ],
      "execution_count": 0,
      "outputs": []
    },
    {
      "cell_type": "code",
      "metadata": {
        "id": "V7AbF6rQ5rT_",
        "colab_type": "code",
        "outputId": "c0f2a570-8433-4fe5-e22b-0c8f859177b7",
        "colab": {
          "base_uri": "https://localhost:8080/",
          "height": 68
        }
      },
      "source": [
        "get_performance(y_pred_ridge)"
      ],
      "execution_count": 26,
      "outputs": [
        {
          "output_type": "stream",
          "text": [
            "Mean Absolute Error: 2.9297\n",
            "Mean Squared Error: 13.7587\n",
            "Root Mean Squared Error: 3.7093\n"
          ],
          "name": "stdout"
        }
      ]
    },
    {
      "cell_type": "code",
      "metadata": {
        "id": "SZi1qbIR5rWQ",
        "colab_type": "code",
        "outputId": "03d1e56c-a791-4188-85ee-1dab6c9e2b66",
        "colab": {
          "base_uri": "https://localhost:8080/",
          "height": 269
        }
      },
      "source": [
        "get_plot(y_pred_ridge)"
      ],
      "execution_count": 27,
      "outputs": [
        {
          "output_type": "display_data",
          "data": {
            "image/png": "[encoded data removed]",
            "text/plain": [
              "<Figure size 432x288 with 1 Axes>"
            ]
          },
          "metadata": {
            "tags": []
          }
        }
      ]
    },
    {
      "cell_type": "markdown",
      "metadata": {
        "id": "RH1URHb4zRxf",
        "colab_type": "text"
      },
      "source": [
        "## Gradient Boosting Trees"
      ]
    },
    {
      "cell_type": "code",
      "metadata": {
        "id": "cgvfwL0hzWd9",
        "colab_type": "code",
        "colab": {}
      },
      "source": [
        "# Model #2 - Gradient Boosting Trees\n",
        "model_gb = GradientBoostingRegressor()\n",
        "model_gb.fit(x_train, y_train)\n",
        "\n",
        "# Infer\n",
        "y_pred_gb = model_gb.predict(x_test)"
      ],
      "execution_count": 0,
      "outputs": []
    },
    {
      "cell_type": "code",
      "metadata": {
        "id": "hiU5072vIAp8",
        "colab_type": "code",
        "outputId": "8565dac3-7893-48a6-9462-f66d8493fd9b",
        "colab": {
          "base_uri": "https://localhost:8080/",
          "height": 68
        }
      },
      "source": [
        "get_performance(y_pred_gb)"
      ],
      "execution_count": 29,
      "outputs": [
        {
          "output_type": "stream",
          "text": [
            "Mean Absolute Error: 3.5132\n",
            "Mean Squared Error: 17.8919\n",
            "Root Mean Squared Error: 4.2299\n"
          ],
          "name": "stdout"
        }
      ]
    },
    {
      "cell_type": "code",
      "metadata": {
        "id": "1xXWb77S6hlA",
        "colab_type": "code",
        "outputId": "f7ef08b2-cc13-42fd-9878-d79befbf4ea1",
        "colab": {
          "base_uri": "https://localhost:8080/",
          "height": 269
        }
      },
      "source": [
        "get_plot(y_pred_gb)"
      ],
      "execution_count": 30,
      "outputs": [
        {
          "output_type": "display_data",
          "data": {
            "image/png": "[encoded data removed]",
            "text/plain": [
              "<Figure size 432x288 with 1 Axes>"
            ]
          },
          "metadata": {
            "tags": []
          }
        }
      ]
    },
    {
      "cell_type": "markdown",
      "metadata": {
        "id": "thaPGWj17ZXq",
        "colab_type": "text"
      },
      "source": [
        "# Comparison"
      ]
    },
    {
      "cell_type": "code",
      "metadata": {
        "id": "1xe34jfS7a2C",
        "colab_type": "code",
        "colab": {}
      },
      "source": [
        "df_comp=pd.DataFrame({\"lag\":np.absolute(y_test-y_pred_lag), \n",
        "              \"lr\":np.absolute(y_test-y_pred_lr), \n",
        "              \"ridge\":np.absolute(y_test-y_pred_ridge),\n",
        "              \"gb\":np.absolute(y_test-y_pred_gb)})"
      ],
      "execution_count": 0,
      "outputs": []
    },
    {
      "cell_type": "code",
      "metadata": {
        "id": "z3AzO-FY79Xh",
        "colab_type": "code",
        "outputId": "725b132f-b862-4ac3-893c-269ae26e137d",
        "colab": {
          "base_uri": "https://localhost:8080/",
          "height": 398
        }
      },
      "source": [
        "df_comp.plot.bar(figsize=(16, 6))\n",
        "plt.ylim(0,10)\n",
        "plt.xlim(9,20)"
      ],
      "execution_count": 32,
      "outputs": [
        {
          "output_type": "execute_result",
          "data": {
            "text/plain": [
              "(9, 20)"
            ]
          },
          "metadata": {
            "tags": []
          },
          "execution_count": 32
        },
        {
          "output_type": "display_data",
          "data": {
            "image/png": "[encoded data removed]",
            "text/plain": [
              "<Figure size 1152x432 with 1 Axes>"
            ]
          },
          "metadata": {
            "tags": []
          }
        }
      ]
    },
    {
      "cell_type": "code",
      "metadata": {
        "id": "2HDaQhq2_BkS",
        "colab_type": "code",
        "colab": {}
      },
      "source": [
        ""
      ],
      "execution_count": 0,
      "outputs": []
    },
    {
      "cell_type": "markdown",
      "metadata": {
        "id": "pWSJU6S-BbAN",
        "colab_type": "text"
      },
      "source": [
        "# Conclusion and Next Steps"
      ]
    },
    {
      "cell_type": "markdown",
      "metadata": {
        "id": "roknARF1CAbi",
        "colab_type": "text"
      },
      "source": [
        "We cycled through 4 different algorithms, ranging from simple to complex:\n",
        "\n",
        "*   lag (previous day's price)\n",
        "*   linear regression\n",
        "*   ridge regresssion\n",
        "*   gradient boosting trees\n",
        "\n",
        "We concluded that linear regression give us the best performance with the least complexity.\n",
        "\n",
        "Next steps might include adding additional features such as trend and recent volatility.\n",
        "\n"
      ]
    },
    {
      "cell_type": "markdown",
      "metadata": {
        "id": "xn3gQqE3CiiN",
        "colab_type": "text"
      },
      "source": [
        "# Resources\n",
        "\n",
        "\n",
        "\n",
        "*   [An Introduction to Statistical Learning](https://www.amazon.com/Introduction-Statistical-Learning-Applications-Statistics/dp/1461471370)\n",
        "*   [Colab: Agent Trading](https://colab.research.google.com/drive/1FzLCI0AO3c7A4bp9Fi01UwXeoc7BN8sW#scrollTo=Lo2Pg-dcY5_U)\n",
        "*   [In 12 minutes: Stocks Analysis with Pandas and Scikit-Learn](https://towardsdatascience.com/in-12-minutes-stocks-analysis-with-pandas-and-scikit-learn-a8d8a7b50ee7)\n",
        "*   [A beginner’s guide to Linear Regression in Python with Scikit-Learn](https://towardsdatascience.com/a-beginners-guide-to-linear-regression-in-python-with-scikit-learn-83a8f7ae2b4f)\n",
        "\n",
        "\n",
        "\n",
        "\n",
        "\n",
        "\n"
      ]
    }
  ]
}